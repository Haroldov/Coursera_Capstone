{
    "nbformat_minor": 2, 
    "cells": [
        {
            "source": "# CAPSTONE PROJECT", 
            "cell_type": "markdown", 
            "metadata": {}
        }, 
        {
            "source": "#### THIS NOTEBOOK WILL BE MAINLY USED FOR THE CAPSTONE PROJECT FROM IBM DATA SCIENCE PROFESSIONAL CERTIFICATE", 
            "cell_type": "markdown", 
            "metadata": {}
        }, 
        {
            "source": "## 1. Import important libraries", 
            "cell_type": "markdown", 
            "metadata": {}
        }, 
        {
            "source": "#!conda install -c conda-forge folium=0.5.0 --yes \n#!conda install -c conda-forge geopy --yes\nimport numpy as np\nimport pandas as pd\nimport requests\nfrom pandas.io.json import json_normalize\nimport folium\nfrom geopy.geocoders import Nominatim\nimport json\n\nprint('Libraries imported.')", 
            "cell_type": "code", 
            "metadata": {}, 
            "outputs": [
                {
                    "output_type": "stream", 
                    "name": "stdout", 
                    "text": "Libraries imported.\n"
                }
            ], 
            "execution_count": 6
        }, 
        {
            "source": "## 2. Load Neighborhoods in New York and Toronto from:\n* New York: https://ibm.box.com/shared/static/fbpwbovar7lf8p5sgddm06cgipa2rxpe.json\n* Toronto: https://en.wikipedia.org/wiki/List_of_postal_codes_of_Canada:_M", 
            "cell_type": "markdown", 
            "metadata": {}
        }, 
        {
            "source": "### 2.1. Download and load New York data", 
            "cell_type": "markdown", 
            "metadata": {}
        }, 
        {
            "source": "!wget -q -O 'newyork_data.json' https://ibm.box.com/shared/static/fbpwbovar7lf8p5sgddm06cgipa2rxpe.json\nprint('Data downloaded!')\nprint('Loading data...')\nwith open('newyork_data.json') as json_data:\n    newyork_data = json.load(json_data)\n    \nprint('\\n...data loaded succesfully!')", 
            "cell_type": "code", 
            "metadata": {}, 
            "outputs": [
                {
                    "output_type": "stream", 
                    "name": "stdout", 
                    "text": "Data downloaded!\nLoading data...\n\n...data loaded succesfully!\n"
                }
            ], 
            "execution_count": 9
        }, 
        {
            "source": "### 2.1.1. Let's take a look at the relevant data in a *pandas* dataframe", 
            "cell_type": "markdown", 
            "metadata": {}
        }, 
        {
            "source": "neighborhoods_ny = pd.DataFrame(columns = ['Borough', 'Neighborhood', 'Latitude', 'Longitude'])\nfor data in newyork_data['features']:\n    borough = neighborhood_name = data['properties']['borough'] Data downloaded!\nLoading data...\n\n...data loaded succesfully!\n    neighborhood_name = data['properties']['name']\n        \n    neighborhood_latlon = data['geometry']['coordinates']\n    neighborhood_lat = neighborhood_latlon[1]\n    neighborhood_lon = neighborhood_latlon[0]\n    \n    neighborhoods_ny = neighborhoods_ny.append({'Borough': borough,\n                                          'Neighborhood': neighborhood_name,\n                                          'Latitude': neighborhood_lat,\n                                          'Longitude': neighborhood_lon}, ignore_index=True)\nneighborhoods_ny.head()", 
            "cell_type": "code", 
            "metadata": {}, 
            "outputs": [
                {
                    "output_type": "execute_result", 
                    "data": {
                        "text/html": "<div>\n<style scoped>\n    .dataframe tbody tr th:only-of-type {\n        vertical-align: middle;\n    }\n\n    .dataframe tbody tr th {\n        vertical-align: top;\n    }\n\n    .dataframe thead th {\n        text-align: right;\n    }\n</style>\n<table border=\"1\" class=\"dataframe\">\n  <thead>\n    <tr style=\"text-align: right;\">\n      <th></th>\n      <th>Borough</th>\n      <th>Neighborhood</th>\n      <th>Latitude</th>\n      <th>Longitude</th>\n    </tr>\n  </thead>\n  <tbody>\n    <tr>\n      <th>0</th>\n      <td>Bronx</td>\n      <td>Wakefield</td>\n      <td>40.894705</td>\n      <td>-73.847201</td>\n    </tr>\n    <tr>\n      <th>1</th>\n      <td>Bronx</td>\n      <td>Co-op City</td>\n      <td>40.874294</td>\n      <td>-73.829939</td>\n    </tr>\n    <tr>\n      <th>2</th>\n      <td>Bronx</td>\n      <td>Eastchester</td>\n      <td>40.887556</td>\n      <td>-73.827806</td>\n    </tr>\n    <tr>\n      <th>3</th>\n      <td>Bronx</td>\n      <td>Fieldston</td>\n      <td>40.895437</td>\n      <td>-73.905643</td>\n    </tr>\n    <tr>\n      <th>4</th>\n      <td>Bronx</td>\n      <td>Riverdale</td>\n      <td>40.890834</td>\n      <td>-73.912585</td>\n    </tr>\n  </tbody>\n</table>\n</div>", 
                        "text/plain": "  Borough Neighborhood   Latitude  Longitude\n0   Bronx    Wakefield  40.894705 -73.847201\n1   Bronx   Co-op City  40.874294 -73.829939\n2   Bronx  Eastchester  40.887556 -73.827806\n3   Bronx    Fieldston  40.895437 -73.905643\n4   Bronx    Riverdale  40.890834 -73.912585"
                    }, 
                    "execution_count": 19, 
                    "metadata": {}
                }
            ], 
            "execution_count": 19
        }, 
        {
            "source": "print(\"{} neighborhoods found in New York city.\".format(neighborhoods_ny.shape[0]))", 
            "cell_type": "code", 
            "metadata": {}, 
            "outputs": [
                {
                    "output_type": "stream", 
                    "name": "stdout", 
                    "text": "306 neighborhoods found in New York city.\n"
                }
            ], 
            "execution_count": 22
        }, 
        {
            "source": "### 2.2. Download and load Toronto data", 
            "cell_type": "markdown", 
            "metadata": {}
        }, 
        {
            "source": "webPage = requests.get(\"https://en.wikipedia.org/wiki/List_of_postal_codes_of_Canada:_M\")\nprint('Data downloaded!')\nprint('Loading data...')\nhtml = webPage.text                                                                       \ntableInit = html.find('<table class=\"wikitable sortable\">')                            \ntableFinal = html.find('</table>')                                                      \nhtmlTable = html[tableInit:tableFinal]\nprint('\\n...data loaded succesfully!')", 
            "cell_type": "code", 
            "metadata": {}, 
            "outputs": [
                {
                    "output_type": "stream", 
                    "name": "stdout", 
                    "text": "Data downloaded!\nLoading data...\n\n...data loaded succesfully!\n"
                }
            ], 
            "execution_count": 38
        }, 
        {
            "source": "### 2.2.1. Let's take a look at the relevant data in a *pandas* dataframe", 
            "cell_type": "markdown", 
            "metadata": {}
        }, 
        {
            "source": "table = pd.read_html(htmlTable, header = 0)[0]                                            \ntable[\"Borough\"] = table[\"Borough\"].replace({\"Not assigned\":np.nan})                \ntable.dropna(inplace = True)                                                          \ntable.where(table != \"Not assigned\", table[\"Borough\"], axis = 0, inplace = True)      \njoinedRows = table.groupby(\"Postcode\")[\"Neighbourhood\"].apply(lambda x: \", \".join(x)) \ntable.drop_duplicates([\"Postcode\"],inplace = True)                                    \ndf = table.join(joinedRows, on = \"Postcode\", lsuffix='_single')                       \ndf.drop(columns = [\"Neighbourhood_single\"], inplace = True)                         \ndf.reset_index(drop = True, inplace = True)", 
            "cell_type": "code", 
            "metadata": {}, 
            "outputs": [], 
            "execution_count": 42
        }, 
        {
            "source": "Add latitude and longitude from: http://cocl.us/Geospatial_data", 
            "cell_type": "markdown", 
            "metadata": {}
        }, 
        {
            "source": "!wget -q -O 'Geospatial_Coordinates.csv' http://cocl.us/Geospatial_data\ngeo = pd.read_csv(\"Geospatial_Coordinates.csv\", index_col = 0)         \nneighborhoods_to = df.join(geo, on = \"Postcode\")                     \nneighborhoods_to.head()", 
            "cell_type": "code", 
            "metadata": {}, 
            "outputs": [
                {
                    "output_type": "execute_result", 
                    "data": {
                        "text/html": "<div>\n<style scoped>\n    .dataframe tbody tr th:only-of-type {\n        vertical-align: middle;\n    }\n\n    .dataframe tbody tr th {\n        vertical-align: top;\n    }\n\n    .dataframe thead th {\n        text-align: right;\n    }\n</style>\n<table border=\"1\" class=\"dataframe\">\n  <thead>\n    <tr style=\"text-align: right;\">\n      <th></th>\n      <th>Postcode</th>\n      <th>Borough</th>\n      <th>Neighbourhood</th>\n      <th>Latitude</th>\n      <th>Longitude</th>\n    </tr>\n  </thead>\n  <tbody>\n    <tr>\n      <th>0</th>\n      <td>M3A</td>\n      <td>North York</td>\n      <td>Parkwoods</td>\n      <td>43.753259</td>\n      <td>-79.329656</td>\n    </tr>\n    <tr>\n      <th>1</th>\n      <td>M4A</td>\n      <td>North York</td>\n      <td>Victoria Village</td>\n      <td>43.725882</td>\n      <td>-79.315572</td>\n    </tr>\n    <tr>\n      <th>2</th>\n      <td>M5A</td>\n      <td>Downtown Toronto</td>\n      <td>Harbourfront, Regent Park</td>\n      <td>43.654260</td>\n      <td>-79.360636</td>\n    </tr>\n    <tr>\n      <th>3</th>\n      <td>M6A</td>\n      <td>North York</td>\n      <td>Lawrence Heights, Lawrence Manor</td>\n      <td>43.718518</td>\n      <td>-79.464763</td>\n    </tr>\n    <tr>\n      <th>4</th>\n      <td>M7A</td>\n      <td>Queen's Park</td>\n      <td>Queen's Park</td>\n      <td>43.662301</td>\n      <td>-79.389494</td>\n    </tr>\n  </tbody>\n</table>\n</div>", 
                        "text/plain": "  Postcode           Borough                     Neighbourhood   Latitude  \\\n0      M3A        North York                         Parkwoods  43.753259   \n1      M4A        North York                  Victoria Village  43.725882   \n2      M5A  Downtown Toronto         Harbourfront, Regent Park  43.654260   \n3      M6A        North York  Lawrence Heights, Lawrence Manor  43.718518   \n4      M7A      Queen's Park                      Queen's Park  43.662301   \n\n   Longitude  \n0 -79.329656  \n1 -79.315572  \n2 -79.360636  \n3 -79.464763  \n4 -79.389494  "
                    }, 
                    "execution_count": 41, 
                    "metadata": {}
                }
            ], 
            "execution_count": 41
        }, 
        {
            "source": "print(\"\\n{} neighborhoods found in the city of Toronto.\".format(df.shape[0]))", 
            "cell_type": "code", 
            "metadata": {}, 
            "outputs": [
                {
                    "output_type": "stream", 
                    "name": "stdout", 
                    "text": "\n103 neighborhoods found in the city of Toronto.\n"
                }
            ], 
            "execution_count": 40
        }, 
        {
            "source": "## 2. Import data from Foursquare", 
            "cell_type": "markdown", 
            "metadata": {}
        }, 
        {
            "source": "### 2.1. Setting up the credentials", 
            "cell_type": "markdown", 
            "metadata": {}
        }, 
        {
            "source": "CLIENT_ID = '2I0S3UDT4JPCUVSECPX2NUVA1DCGMOJCICB5PMJJIVQNMXHV' # your Foursquare ID\nCLIENT_SECRET = 'HR1NF5MW52YXVDV0KWI5G3XFVWXFRHRNOBYRQEUCGKXA10CL' # your Foursquare Secret\nVERSION = '20180604'\nLIMIT = 30\nprint('Your credentails:')\nprint('CLIENT_ID: ' + CLIENT_ID)\nprint('CLIENT_SECRET:' + CLIENT_SECRET)", 
            "cell_type": "code", 
            "metadata": {}, 
            "outputs": [
                {
                    "output_type": "stream", 
                    "name": "stdout", 
                    "text": "Your credentails:\nCLIENT_ID: 2I0S3UDT4JPCUVSECPX2NUVA1DCGMOJCICB5PMJJIVQNMXHV\nCLIENT_SECRET:HR1NF5MW52YXVDV0KWI5G3XFVWXFRHRNOBYRQEUCGKXA10CL\n"
                }
            ], 
            "execution_count": 54
        }
    ], 
    "metadata": {
        "kernelspec": {
            "display_name": "Python 3.5", 
            "name": "python3", 
            "language": "python"
        }, 
        "language_info": {
            "mimetype": "text/x-python", 
            "nbconvert_exporter": "python", 
            "version": "3.5.5", 
            "name": "python", 
            "file_extension": ".py", 
            "pygments_lexer": "ipython3", 
            "codemirror_mode": {
                "version": 3, 
                "name": "ipython"
            }
        }
    }, 
    "nbformat": 4
}